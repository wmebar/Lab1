{
 "cells": [
  {
   "cell_type": "code",
   "execution_count": 1,
   "metadata": {},
   "outputs": [
    {
     "name": "stdout",
     "output_type": "stream",
     "text": [
      "The Zen of Python, by Tim Peters\n",
      "\n",
      "Beautiful is better than ugly.\n",
      "Explicit is better than implicit.\n",
      "Simple is better than complex.\n",
      "Complex is better than complicated.\n",
      "Flat is better than nested.\n",
      "Sparse is better than dense.\n",
      "Readability counts.\n",
      "Special cases aren't special enough to break the rules.\n",
      "Although practicality beats purity.\n",
      "Errors should never pass silently.\n",
      "Unless explicitly silenced.\n",
      "In the face of ambiguity, refuse the temptation to guess.\n",
      "There should be one-- and preferably only one --obvious way to do it.\n",
      "Although that way may not be obvious at first unless you're Dutch.\n",
      "Now is better than never.\n",
      "Although never is often better than *right* now.\n",
      "If the implementation is hard to explain, it's a bad idea.\n",
      "If the implementation is easy to explain, it may be a good idea.\n",
      "Namespaces are one honking great idea -- let's do more of those!\n"
     ]
    }
   ],
   "source": [
    "import this"
   ]
  },
  {
   "cell_type": "code",
   "execution_count": 2,
   "metadata": {},
   "outputs": [
    {
     "name": "stdout",
     "output_type": "stream",
     "text": [
      " Hello, world! \n"
     ]
    }
   ],
   "source": [
    "# Edit me so that I print out \"Hello, world!\" when run!\n",
    "print(\" Hello, world! \")"
   ]
  },
  {
   "cell_type": "code",
   "execution_count": 10,
   "metadata": {},
   "outputs": [
    {
     "name": "stdout",
     "output_type": "stream",
     "text": [
      "408\n",
      "234168\n"
     ]
    }
   ],
   "source": [
    "def fizzbuzz(n):\n",
    "    \"\"\"Returns the sum of all numbers less than n divisible by 3 or 5.\"\"\"\n",
    "    sum_3x_5x = 0\n",
    "    #number = 3\n",
    "    #while number<=n:\n",
    "    for number in range(3,n):\n",
    "        if number % 3==0 or number%5==0:  \n",
    "        #if not(number % 3) or not(number%5):\n",
    "            sum_3x_5x =sum_3x_5x +number\n",
    "        #number+=1\n",
    "    return sum_3x_5x#pass\n",
    "print(fizzbuzz(41))  # => 408\n",
    "print(fizzbuzz(1001))"
   ]
  },
  {
   "cell_type": "code",
   "execution_count": 9,
   "metadata": {},
   "outputs": [
    {
     "name": "stdout",
     "output_type": "stream",
     "text": [
      "10\n",
      "179\n",
      "(871, 50)\n"
     ]
    }
   ],
   "source": [
    "def collatz_len(n):\n",
    "    \"\"\"Computes the length of the Collatz sequence starting at n.\"\"\"\n",
    "    #pass\n",
    "    steps = 1    \n",
    "    while n!= 1:\n",
    "        #print(n)\n",
    "        if (n % 2):\n",
    "            n = 3 * n + 1\n",
    "        else:\n",
    "            n = n/2\n",
    "            \n",
    "        steps=steps+1\n",
    "    return steps  \n",
    "\n",
    "def max_collatz_len(n):\n",
    "    \"\"\"Computes the longest Collatz sequence length for starting numbers less than n\"\"\"    \n",
    "    #pass\n",
    "    maior = 1     \n",
    "    for k in range(1, n):         \n",
    "        current_cycle = collatz_len(k)\n",
    "        if current_cycle>maior:\n",
    "            maior=current_cycle\n",
    "            value=k\n",
    "    return value, current_cycle\n",
    "print(collatz_len(13))  # => 10\n",
    "print(collatz_len(871))\n",
    "print(max_collatz_len(1000))\n",
    "#print(max_collatz_len(10000))\n",
    "\n"
   ]
  },
  {
   "cell_type": "code",
   "execution_count": null,
   "metadata": {},
   "outputs": [],
   "source": [
    "def convert_fahr_to_cels(deg_fahr):\n",
    "    \"\"\"Convert a temperature given in degrees Fahrenheit to degrees Celcius.\"\"\"\n",
    "    deg_celsius = (deg_fahr - 32) * 5.0/9.0\n",
    "    return deg_celsius\n",
    "def convert_cels_to_fahr(deg_cels):\n",
    "    deg_fahr=deg_cels*9.0/5.0+32\n",
    "    return deg_fahr\n",
    "#def convert():\n",
    "    \"\"\"Ask the user for a temperature in degrees Fahrenheir, and print out the temperature in degrees Celsius.\"\"\"\n",
    "deg_fahr=float(input('Entre com a temperatura em (°F): '))\n",
    "deg_celsius = convert_fahr_to_cels(deg_fahr)\n",
    "print(\"{:.2f}°F é igual a {:.2f}°C\".format(deg_fahr,deg_celsius))\n",
    "deg_celsius=float(input('Entre com a temperatura em (°C): '))\n",
    "deg_fahr = convert_cels_to_fahr(deg_celsius)\n",
    "print(\"{:.2f}°C é igual a {:.2f}°F\".format(deg_celsius,deg_fahr))\n"
   ]
  },
  {
   "cell_type": "code",
   "execution_count": 7,
   "metadata": {},
   "outputs": [
    {
     "name": "stdout",
     "output_type": "stream",
     "text": [
      "x | . | .\n",
      "---------\n",
      ". | O | .\n",
      "---------\n",
      ". | O | X\n"
     ]
    }
   ],
   "source": [
    "print('x','.','.',sep=' | ')\n",
    "print('---------')\n",
    "print('.','O','.',sep=' | ')\n",
    "print('---------')\n",
    "print('.','O','X',sep=' | ')"
   ]
  },
  {
   "cell_type": "code",
   "execution_count": null,
   "metadata": {},
   "outputs": [],
   "source": []
  }
 ],
 "metadata": {
  "kernelspec": {
   "display_name": "Python 3",
   "language": "python",
   "name": "python3"
  },
  "language_info": {
   "codemirror_mode": {
    "name": "ipython",
    "version": 3
   },
   "file_extension": ".py",
   "mimetype": "text/x-python",
   "name": "python",
   "nbconvert_exporter": "python",
   "pygments_lexer": "ipython3",
   "version": "3.7.1"
  }
 },
 "nbformat": 4,
 "nbformat_minor": 2
}
